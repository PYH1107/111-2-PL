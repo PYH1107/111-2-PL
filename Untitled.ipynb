{
 "cells": [
  {
   "cell_type": "code",
   "execution_count": 66,
   "id": "9d85617e",
   "metadata": {},
   "outputs": [
    {
     "ename": "TypeError",
     "evalue": "expected string or bytes-like object",
     "output_type": "error",
     "traceback": [
      "\u001b[1;31m---------------------------------------------------------------------------\u001b[0m",
      "\u001b[1;31mTypeError\u001b[0m                                 Traceback (most recent call last)",
      "\u001b[1;32m~\\AppData\\Local\\Temp\\ipykernel_17988\\825274142.py\u001b[0m in \u001b[0;36m<module>\u001b[1;34m\u001b[0m\n\u001b[0;32m     23\u001b[0m     \u001b[0mtext\u001b[0m \u001b[1;33m=\u001b[0m \u001b[0mre\u001b[0m\u001b[1;33m.\u001b[0m\u001b[0msub\u001b[0m\u001b[1;33m(\u001b[0m\u001b[1;34mr\"BBC World Service Radio\"\u001b[0m\u001b[1;33m,\u001b[0m \u001b[1;34m\"\"\u001b[0m\u001b[1;33m,\u001b[0m \u001b[0mtext\u001b[0m\u001b[1;33m)\u001b[0m\u001b[1;33m\u001b[0m\u001b[1;33m\u001b[0m\u001b[0m\n\u001b[0;32m     24\u001b[0m     \u001b[0mtext\u001b[0m \u001b[1;33m=\u001b[0m \u001b[0mtext\u001b[0m\u001b[1;33m.\u001b[0m\u001b[0mstrip\u001b[0m\u001b[1;33m(\u001b[0m\u001b[1;33m)\u001b[0m  \u001b[1;31m# 移除文本前後的空白字符\u001b[0m\u001b[1;33m\u001b[0m\u001b[1;33m\u001b[0m\u001b[0m\n\u001b[1;32m---> 25\u001b[1;33m     \u001b[0mtitle\u001b[0m \u001b[1;33m=\u001b[0m \u001b[0mre\u001b[0m\u001b[1;33m.\u001b[0m\u001b[0msub\u001b[0m\u001b[1;33m(\u001b[0m\u001b[1;34mr'\\n'\u001b[0m\u001b[1;33m,\u001b[0m \u001b[1;34m''\u001b[0m\u001b[1;33m,\u001b[0m\u001b[0mtitle\u001b[0m\u001b[1;33m)\u001b[0m\u001b[1;33m\u001b[0m\u001b[1;33m\u001b[0m\u001b[0m\n\u001b[0m\u001b[0;32m     26\u001b[0m     \u001b[0mtitle\u001b[0m \u001b[1;33m=\u001b[0m \u001b[0mre\u001b[0m\u001b[1;33m.\u001b[0m\u001b[0msub\u001b[0m\u001b[1;33m(\u001b[0m\u001b[1;34mr'[^\\w\\s]'\u001b[0m\u001b[1;33m,\u001b[0m \u001b[1;34m''\u001b[0m\u001b[1;33m,\u001b[0m  \u001b[0mtext\u001b[0m\u001b[1;33m)\u001b[0m\u001b[1;33m\u001b[0m\u001b[1;33m\u001b[0m\u001b[0m\n\u001b[0;32m     27\u001b[0m     \u001b[0mtitle\u001b[0m \u001b[1;33m=\u001b[0m \u001b[0mtext\u001b[0m\u001b[1;33m.\u001b[0m\u001b[0mreplace\u001b[0m\u001b[1;33m(\u001b[0m\u001b[1;34m\"n   \"\u001b[0m\u001b[1;33m,\u001b[0m \u001b[1;34m\"\"\u001b[0m\u001b[1;33m)\u001b[0m\u001b[1;33m\u001b[0m\u001b[1;33m\u001b[0m\u001b[0m\n",
      "\u001b[1;32mC:\\ProgramData\\Anaconda3\\lib\\re.py\u001b[0m in \u001b[0;36msub\u001b[1;34m(pattern, repl, string, count, flags)\u001b[0m\n\u001b[0;32m    208\u001b[0m     \u001b[0ma\u001b[0m \u001b[0mcallable\u001b[0m\u001b[1;33m,\u001b[0m \u001b[0mit\u001b[0m\u001b[0;31m'\u001b[0m\u001b[0ms\u001b[0m \u001b[0mpassed\u001b[0m \u001b[0mthe\u001b[0m \u001b[0mMatch\u001b[0m \u001b[0mobject\u001b[0m \u001b[1;32mand\u001b[0m \u001b[0mmust\u001b[0m \u001b[1;32mreturn\u001b[0m\u001b[1;33m\u001b[0m\u001b[1;33m\u001b[0m\u001b[0m\n\u001b[0;32m    209\u001b[0m     a replacement string to be used.\"\"\"\n\u001b[1;32m--> 210\u001b[1;33m     \u001b[1;32mreturn\u001b[0m \u001b[0m_compile\u001b[0m\u001b[1;33m(\u001b[0m\u001b[0mpattern\u001b[0m\u001b[1;33m,\u001b[0m \u001b[0mflags\u001b[0m\u001b[1;33m)\u001b[0m\u001b[1;33m.\u001b[0m\u001b[0msub\u001b[0m\u001b[1;33m(\u001b[0m\u001b[0mrepl\u001b[0m\u001b[1;33m,\u001b[0m \u001b[0mstring\u001b[0m\u001b[1;33m,\u001b[0m \u001b[0mcount\u001b[0m\u001b[1;33m)\u001b[0m\u001b[1;33m\u001b[0m\u001b[1;33m\u001b[0m\u001b[0m\n\u001b[0m\u001b[0;32m    211\u001b[0m \u001b[1;33m\u001b[0m\u001b[0m\n\u001b[0;32m    212\u001b[0m \u001b[1;32mdef\u001b[0m \u001b[0msubn\u001b[0m\u001b[1;33m(\u001b[0m\u001b[0mpattern\u001b[0m\u001b[1;33m,\u001b[0m \u001b[0mrepl\u001b[0m\u001b[1;33m,\u001b[0m \u001b[0mstring\u001b[0m\u001b[1;33m,\u001b[0m \u001b[0mcount\u001b[0m\u001b[1;33m=\u001b[0m\u001b[1;36m0\u001b[0m\u001b[1;33m,\u001b[0m \u001b[0mflags\u001b[0m\u001b[1;33m=\u001b[0m\u001b[1;36m0\u001b[0m\u001b[1;33m)\u001b[0m\u001b[1;33m:\u001b[0m\u001b[1;33m\u001b[0m\u001b[1;33m\u001b[0m\u001b[0m\n",
      "\u001b[1;31mTypeError\u001b[0m: expected string or bytes-like object"
     ]
    }
   ],
   "source": [
    "import requests\n",
    "from bs4 import BeautifulSoup\n",
    "import re\n",
    "import json\n",
    "\n",
    "# 發送 GET 請求並獲取網頁內容\n",
    "url = \"https://www.bbc.com/news\"\n",
    "response = requests.get(url)\n",
    "html = response.text\n",
    "\n",
    "# 使用 BeautifulSoup 解析 HTML\n",
    "soup = BeautifulSoup(html, \"html.parser\")\n",
    "\n",
    "# 找到所有標題的 <h3> 元素\n",
    "titles = soup.find_all(\"h3\", class_=\"gs-c-promo-heading__title\")\n",
    "\n",
    "# 提取標題文本並進行正規劃和刪除指定內容\n",
    "title_list = []\n",
    "for title in titles:\n",
    "    text = title.get_text(strip=True)\n",
    "    text = re.sub(r\"\\s+\", \" \", text)\n",
    "    text = re.sub(r\"BBC World News TV\", \"\", text)\n",
    "    text = re.sub(r\"BBC World Service Radio\", \"\", text)\n",
    "    text = text.strip()  # 移除文本前後的空白字符\n",
    "    title = re.sub(r'\\n', '',title)\n",
    "    title = re.sub(r'[^\\w\\s]', '',  text)\n",
    "    title = text.replace(\"n   \", \"\")\n",
    "    title= re.sub(r\"\\n\", \"\", title)\n",
    "    \n",
    "    if text:\n",
    "        title_list.append(text)\n",
    "\n",
    "# 將結果存儲為 JSON 檔案\n",
    "with open(\"text.json\", \"w\", encoding=\"utf-8\") as file:\n",
    "    json.dump(title_list, file, ensure_ascii=False, indent=4)\n",
    "\n",
    "# 印出提取的標題\n",
    "for title in title_list:\n",
    "    print(title)"
   ]
  },
  {
   "cell_type": "code",
   "execution_count": 16,
   "id": "7ff876d2",
   "metadata": {},
   "outputs": [],
   "source": [
    "# 轉成JSON 檔案\n",
    "with open('titles.json', 'r',encoding='utf-8') as fh:\n",
    "    tmp = fh.read()\n",
    "    itemlist = tmp.split(',')"
   ]
  },
  {
   "cell_type": "code",
   "execution_count": 17,
   "id": "ab68874f",
   "metadata": {},
   "outputs": [],
   "source": [
    "itemlist = str(itemlist)"
   ]
  },
  {
   "cell_type": "code",
   "execution_count": 18,
   "id": "05c441f4",
   "metadata": {},
   "outputs": [],
   "source": [
    "data = [itemlist[0:3200], itemlist[3201:6400]]"
   ]
  },
  {
   "cell_type": "code",
   "execution_count": 19,
   "id": "b3577460",
   "metadata": {},
   "outputs": [
    {
     "data": {
      "text/plain": [
       "'[\\'[\\\\n    \"Indian Railways seek police probe into deadly crash\"\\', \\'\\\\n    \"Indian Railways seek police probe into deadly crash\"\\', \\'\\\\n    \"The business park that turned into a morgue after crash\"\\', \\'\\\\n    \"Woman pardoned after 20 years in jail for baby deaths\"\\', \\'\\\\n    \"Bleak future puts Afghan women in mental health crisis\"\\', \\'\\\\n    \"China\\\\\\'s growing comedy scene feels censorship chill\"\\', \\'\\\\n    \"\\\\\\'Offensive actions\\\\\\' under way in east\\', \\' Ukraine says\"\\', \\'\\\\n    \"War with US would be unbearable disaster - China\"\\', \\'\\\\n    \"Hong Kongers detained on Tiananmen anniversary\"\\', \\'\\\\n    \"Why Putin has put this religious art on display\"\\', \\'\\\\n    \"Kashmir battles alarming drug addiction crisis\"\\', \\'\\\\n    \"Ex-Vice-President Mike Pence joins White House race\"\\', \\'\\\\n    \"Kashmir battles alarming drug addiction crisis\"\\', \\'\\\\n    \"Ex-Vice-President Mike Pence joins White House race\"\\', \\'\\\\n    \"Linda Yaccarino replaces Elon Musk as Twitter boss\"\\', \\'\\\\n    \"Japan YouTuber arrested over celebrity threats\"\\', \\'\\\\n    \"Top Australian soldier a liar and bully - Judge\"\\', \\'\\\\n    \"\\\\\\'I pray that we find him\\\\\\': Desperate hunt for the missing\"\\', \\'\\\\n    \"Why do trains in India go off the tracks?\"\\', \\'\\\\n    \"\\\\\\'My mother was missing - then I got a picture of her body\\\\\\'\"\\', \\'\\\\n    \"Drone shows extent of India train crash destruction\"\\', \\'\\\\n    \"How did three trains collide in India?\"\\', \\'\\\\n    \"Cat upstages Royal historian mid-BBC interview\"\\', \\'\\\\n    \"Mass spelling contest held at Paris Champs-Élysées\"\\', \\'\\\\n    \"The mums and babies heading home to the front line\"\\', \\'\\\\n    \"Man City players serenade Elton John after FA Cup win\"\\', \\'\\\\n    \"Why is Prince Harry heading to the High Court?\"\\', \\'\\\\n    \"Wreckage cleared from tracks after India train crash\"\\', \\'\\\\n    \"Why Indian politicians woo the diaspora in the US\"\\', \\'\\\\n    \"The one way Mike Pence could beat his old boss\"\\', \\'\\\\n    \"Could ultra-processed foods be harmful for us?\"\\', \\'\\\\n    \"How is my country doing tackling climate change?\"\\', \\'\\\\n    \"The mother bringing autism out of the dark in Iraq\"\\', \\'\\\\n    \"How the Pakistani military feel about Imran Khan\"\\', \\'\\\\n    \"Caesarean by phone light - giving birth in a warzone\"\\', \\'\\\\n    \"The long quest for personalised drugs\"\\', \\'\\\\n    \"Will a four-day week get workers back?\"\\', \\'\\\\n    \"Japan\\\\\\'s ultimate lesson in gratitude\"\\', \\'\\\\n    \"Sex\\', \\' violence and sparkling one-liners\"\\', \\'\\\\n    \"The birds ensnared by plastic\"\\', \\'\\\\n    \"The generation clocking the most hours\"\\', \\'\\\\n    \"The US\\\\\\' most anticipated museum opens\"\\\\n]\\']'"
      ]
     },
     "execution_count": 19,
     "metadata": {},
     "output_type": "execute_result"
    }
   ],
   "source": [
    "data[0]"
   ]
  },
  {
   "cell_type": "code",
   "execution_count": 20,
   "id": "874a9f26",
   "metadata": {},
   "outputs": [],
   "source": [
    "with open(\"data.json\", \"w\", encoding=\"utf-8\") as file:\n",
    "    json.dump(title_list, file, ensure_ascii=False, indent=4)"
   ]
  },
  {
   "cell_type": "code",
   "execution_count": 55,
   "id": "0a6ed62e",
   "metadata": {},
   "outputs": [
    {
     "name": "stdout",
     "output_type": "stream",
     "text": [
      " Indian Railways seek police probe into deadly crash  Indian Railways seek police probe into deadly crash  The business park that turned into a morgue after crash  Woman pardoned after 20 years in jail for baby deaths  Bleak future puts Afghan women in mental health crisis  Chinas growing comedy scene feels censorship chill  Offensive actions under way in east  Ukraine says  War with US would be unbearable disaster  China  Hong Kongers detained on Tiananmen anniversary  Why Putin has put this religious art on display  Kashmir battles alarming drug addiction crisis  ExVicePresident Mike Pence joins White House race  Kashmir battles alarming drug addiction crisis  ExVicePresident Mike Pence joins White House race  Linda Yaccarino replaces Elon Musk as Twitter boss  Japan YouTuber arrested over celebrity threats  Top Australian soldier a liar and bully  Judge  I pray that we find him Desperate hunt for the missing  Why do trains in India go off the tracks  My mother was missing  then I got a picture of her body  Drone shows extent of India train crash destruction  How did three trains collide in India  Cat upstages Royal historian midBBC interview  Mass spelling contest held at Paris ChampsÉlysées  The mums and babies heading home to the front line  Man City players serenade Elton John after FA Cup win  Why is Prince Harry heading to the High Court  Wreckage cleared from tracks after India train crash  Why Indian politicians woo the diaspora in the US  The one way Mike Pence could beat his old boss  Could ultraprocessed foods be harmful for us  How is my country doing tackling climate change  The mother bringing autism out of the dark in Iraq  How the Pakistani military feel about Imran Khan  Caesarean by phone light  giving birth in a warzone  The long quest for personalised drugs  Will a fourday week get workers back  Japans ultimate lesson in gratitude  Sex  violence and sparkling oneliners  The birds ensnared by plastic  The generation clocking the most hours  The US most anticipated museum opensn\n"
     ]
    }
   ],
   "source": [
    "\n",
    "text = re.sub(r'\\n', '', data[0])\n",
    "text = re.sub(r'[^\\w\\s]', '', data[0])\n",
    "text = text.replace(\"n   \", \"\")\n",
    "text = re.sub(r\"\\n\", \"\", text)\n",
    "print(text)"
   ]
  },
  {
   "cell_type": "code",
   "execution_count": 60,
   "id": "e8334620",
   "metadata": {},
   "outputs": [
    {
     "ename": "NameError",
     "evalue": "name 'text_list' is not defined",
     "output_type": "error",
     "traceback": [
      "\u001b[1;31m---------------------------------------------------------------------------\u001b[0m",
      "\u001b[1;31mNameError\u001b[0m                                 Traceback (most recent call last)",
      "\u001b[1;32m~\\AppData\\Local\\Temp\\ipykernel_17988\\970213615.py\u001b[0m in \u001b[0;36m<module>\u001b[1;34m\u001b[0m\n\u001b[0;32m      1\u001b[0m \u001b[1;32mwith\u001b[0m \u001b[0mopen\u001b[0m\u001b[1;33m(\u001b[0m\u001b[1;34m\"text.json\"\u001b[0m\u001b[1;33m,\u001b[0m \u001b[1;34m\"w\"\u001b[0m\u001b[1;33m,\u001b[0m \u001b[0mencoding\u001b[0m\u001b[1;33m=\u001b[0m\u001b[1;34m\"utf-8\"\u001b[0m\u001b[1;33m)\u001b[0m \u001b[1;32mas\u001b[0m \u001b[0mfile\u001b[0m\u001b[1;33m:\u001b[0m\u001b[1;33m\u001b[0m\u001b[1;33m\u001b[0m\u001b[0m\n\u001b[1;32m----> 2\u001b[1;33m     \u001b[0mjson\u001b[0m\u001b[1;33m.\u001b[0m\u001b[0mdump\u001b[0m\u001b[1;33m(\u001b[0m\u001b[0mtext_list\u001b[0m\u001b[1;33m,\u001b[0m \u001b[0mfile\u001b[0m\u001b[1;33m,\u001b[0m \u001b[0mensure_ascii\u001b[0m\u001b[1;33m=\u001b[0m\u001b[1;32mFalse\u001b[0m\u001b[1;33m,\u001b[0m \u001b[0mindent\u001b[0m\u001b[1;33m=\u001b[0m\u001b[1;36m4\u001b[0m\u001b[1;33m)\u001b[0m\u001b[1;33m\u001b[0m\u001b[1;33m\u001b[0m\u001b[0m\n\u001b[0m",
      "\u001b[1;31mNameError\u001b[0m: name 'text_list' is not defined"
     ]
    }
   ],
   "source": [
    "with open(\"text.json\", \"w\", encoding=\"utf-8\") as file:\n",
    "    json.dump(text_list, file, ensure_ascii=False, indent=4)"
   ]
  },
  {
   "cell_type": "code",
   "execution_count": 57,
   "id": "2106ceb4",
   "metadata": {},
   "outputs": [
    {
     "name": "stdout",
     "output_type": "stream",
     "text": [
      "Defaulting to user installation because normal site-packages is not writeable\n",
      "Requirement already satisfied: jieba in c:\\users\\maypa\\appdata\\roaming\\python\\python39\\site-packages (0.42.1)\n"
     ]
    }
   ],
   "source": [
    "!pip install jieba\n",
    "import jieba\n",
    "import jieba.analyse\n",
    "from collections import Counter"
   ]
  },
  {
   "cell_type": "code",
   "execution_count": 58,
   "id": "9fb5e4e6",
   "metadata": {},
   "outputs": [
    {
     "name": "stdout",
     "output_type": "stream",
     "text": [
      "Defaulting to user installation because normal site-packages is not writeable\n",
      "Requirement already satisfied: wordcloud in c:\\users\\maypa\\appdata\\roaming\\python\\python39\\site-packages (1.9.2)\n",
      "Requirement already satisfied: pillow in c:\\programdata\\anaconda3\\lib\\site-packages (from wordcloud) (9.2.0)\n",
      "Requirement already satisfied: numpy>=1.6.1 in c:\\users\\maypa\\appdata\\roaming\\python\\python39\\site-packages (from wordcloud) (1.24.3)\n",
      "Requirement already satisfied: matplotlib in c:\\programdata\\anaconda3\\lib\\site-packages (from wordcloud) (3.5.2)\n",
      "Requirement already satisfied: python-dateutil>=2.7 in c:\\programdata\\anaconda3\\lib\\site-packages (from matplotlib->wordcloud) (2.8.2)\n",
      "Requirement already satisfied: pyparsing>=2.2.1 in c:\\programdata\\anaconda3\\lib\\site-packages (from matplotlib->wordcloud) (3.0.9)\n",
      "Requirement already satisfied: fonttools>=4.22.0 in c:\\programdata\\anaconda3\\lib\\site-packages (from matplotlib->wordcloud) (4.25.0)\n",
      "Requirement already satisfied: cycler>=0.10 in c:\\programdata\\anaconda3\\lib\\site-packages (from matplotlib->wordcloud) (0.11.0)\n",
      "Requirement already satisfied: packaging>=20.0 in c:\\programdata\\anaconda3\\lib\\site-packages (from matplotlib->wordcloud) (21.3)\n",
      "Requirement already satisfied: kiwisolver>=1.0.1 in c:\\programdata\\anaconda3\\lib\\site-packages (from matplotlib->wordcloud) (1.4.2)\n",
      "Requirement already satisfied: six>=1.5 in c:\\programdata\\anaconda3\\lib\\site-packages (from python-dateutil>=2.7->matplotlib->wordcloud) (1.16.0)\n"
     ]
    }
   ],
   "source": [
    "from PIL import Image # 影像處理套件\n",
    "import matplotlib.pyplot as plt\n",
    "!pip install wordcloud\n",
    "from wordcloud import WordCloud # 文字雲"
   ]
  },
  {
   "cell_type": "code",
   "execution_count": 59,
   "id": "b660b956",
   "metadata": {},
   "outputs": [
    {
     "ename": "ValueError",
     "evalue": "anchor not supported for multiline text",
     "output_type": "error",
     "traceback": [
      "\u001b[1;31m---------------------------------------------------------------------------\u001b[0m",
      "\u001b[1;31mValueError\u001b[0m                                Traceback (most recent call last)",
      "\u001b[1;32m~\\AppData\\Local\\Temp\\ipykernel_17988\\2326761602.py\u001b[0m in \u001b[0;36m<module>\u001b[1;34m\u001b[0m\n\u001b[0;32m     19\u001b[0m \u001b[0mfont_path\u001b[0m \u001b[1;33m=\u001b[0m \u001b[1;34m'C:/Windows/Fonts/msjh.ttc'\u001b[0m\u001b[1;33m\u001b[0m\u001b[1;33m\u001b[0m\u001b[0m\n\u001b[0;32m     20\u001b[0m \u001b[1;31m# 設定字型路徑\u001b[0m\u001b[1;33m\u001b[0m\u001b[1;33m\u001b[0m\u001b[0m\n\u001b[1;32m---> 21\u001b[1;33m \u001b[0mwordcloud\u001b[0m \u001b[1;33m=\u001b[0m \u001b[0mWordCloud\u001b[0m\u001b[1;33m(\u001b[0m\u001b[0mwidth\u001b[0m\u001b[1;33m=\u001b[0m\u001b[1;36m800\u001b[0m\u001b[1;33m,\u001b[0m \u001b[0mheight\u001b[0m\u001b[1;33m=\u001b[0m\u001b[1;36m800\u001b[0m\u001b[1;33m,\u001b[0m \u001b[0mfont_path\u001b[0m\u001b[1;33m=\u001b[0m\u001b[0mfont_path\u001b[0m\u001b[1;33m,\u001b[0m \u001b[0mbackground_color\u001b[0m\u001b[1;33m=\u001b[0m\u001b[1;34m'white'\u001b[0m\u001b[1;33m)\u001b[0m\u001b[1;33m.\u001b[0m\u001b[0mgenerate_from_frequencies\u001b[0m\u001b[1;33m(\u001b[0m\u001b[0mword_freq\u001b[0m\u001b[1;33m)\u001b[0m\u001b[1;33m\u001b[0m\u001b[1;33m\u001b[0m\u001b[0m\n\u001b[0m\u001b[0;32m     22\u001b[0m \u001b[1;33m\u001b[0m\u001b[0m\n\u001b[0;32m     23\u001b[0m \u001b[1;31m# 顯示文字雲\u001b[0m\u001b[1;33m\u001b[0m\u001b[1;33m\u001b[0m\u001b[0m\n",
      "\u001b[1;32m~\\AppData\\Roaming\\Python\\Python39\\site-packages\\wordcloud\\wordcloud.py\u001b[0m in \u001b[0;36mgenerate_from_frequencies\u001b[1;34m(self, frequencies, max_font_size)\u001b[0m\n\u001b[0;32m    506\u001b[0m                     font, orientation=orientation)\n\u001b[0;32m    507\u001b[0m                 \u001b[1;31m# get size of resulting text\u001b[0m\u001b[1;33m\u001b[0m\u001b[1;33m\u001b[0m\u001b[0m\n\u001b[1;32m--> 508\u001b[1;33m                 \u001b[0mbox_size\u001b[0m \u001b[1;33m=\u001b[0m \u001b[0mdraw\u001b[0m\u001b[1;33m.\u001b[0m\u001b[0mtextbbox\u001b[0m\u001b[1;33m(\u001b[0m\u001b[1;33m(\u001b[0m\u001b[1;36m0\u001b[0m\u001b[1;33m,\u001b[0m \u001b[1;36m0\u001b[0m\u001b[1;33m)\u001b[0m\u001b[1;33m,\u001b[0m \u001b[0mword\u001b[0m\u001b[1;33m,\u001b[0m \u001b[0mfont\u001b[0m\u001b[1;33m=\u001b[0m\u001b[0mtransposed_font\u001b[0m\u001b[1;33m,\u001b[0m \u001b[0manchor\u001b[0m\u001b[1;33m=\u001b[0m\u001b[1;34m\"lt\"\u001b[0m\u001b[1;33m)\u001b[0m\u001b[1;33m\u001b[0m\u001b[1;33m\u001b[0m\u001b[0m\n\u001b[0m\u001b[0;32m    509\u001b[0m                 \u001b[1;31m# find possible places using integral image:\u001b[0m\u001b[1;33m\u001b[0m\u001b[1;33m\u001b[0m\u001b[0m\n\u001b[0;32m    510\u001b[0m                 result = occupancy.sample_position(box_size[3] + self.margin,\n",
      "\u001b[1;32mC:\\ProgramData\\Anaconda3\\lib\\site-packages\\PIL\\ImageDraw.py\u001b[0m in \u001b[0;36mtextbbox\u001b[1;34m(self, xy, text, font, anchor, spacing, align, direction, features, language, stroke_width, embedded_color)\u001b[0m\n\u001b[0;32m    696\u001b[0m \u001b[1;33m\u001b[0m\u001b[0m\n\u001b[0;32m    697\u001b[0m         \u001b[1;32mif\u001b[0m \u001b[0mself\u001b[0m\u001b[1;33m.\u001b[0m\u001b[0m_multiline_check\u001b[0m\u001b[1;33m(\u001b[0m\u001b[0mtext\u001b[0m\u001b[1;33m)\u001b[0m\u001b[1;33m:\u001b[0m\u001b[1;33m\u001b[0m\u001b[1;33m\u001b[0m\u001b[0m\n\u001b[1;32m--> 698\u001b[1;33m             return self.multiline_textbbox(\n\u001b[0m\u001b[0;32m    699\u001b[0m                 \u001b[0mxy\u001b[0m\u001b[1;33m,\u001b[0m\u001b[1;33m\u001b[0m\u001b[1;33m\u001b[0m\u001b[0m\n\u001b[0;32m    700\u001b[0m                 \u001b[0mtext\u001b[0m\u001b[1;33m,\u001b[0m\u001b[1;33m\u001b[0m\u001b[1;33m\u001b[0m\u001b[0m\n",
      "\u001b[1;32mC:\\ProgramData\\Anaconda3\\lib\\site-packages\\PIL\\ImageDraw.py\u001b[0m in \u001b[0;36mmultiline_textbbox\u001b[1;34m(self, xy, text, font, anchor, spacing, align, direction, features, language, stroke_width, embedded_color)\u001b[0m\n\u001b[0;32m    740\u001b[0m             \u001b[1;32mraise\u001b[0m \u001b[0mValueError\u001b[0m\u001b[1;33m(\u001b[0m\u001b[1;34m\"anchor must be a 2 character string\"\u001b[0m\u001b[1;33m)\u001b[0m\u001b[1;33m\u001b[0m\u001b[1;33m\u001b[0m\u001b[0m\n\u001b[0;32m    741\u001b[0m         \u001b[1;32melif\u001b[0m \u001b[0manchor\u001b[0m\u001b[1;33m[\u001b[0m\u001b[1;36m1\u001b[0m\u001b[1;33m]\u001b[0m \u001b[1;32min\u001b[0m \u001b[1;34m\"tb\"\u001b[0m\u001b[1;33m:\u001b[0m\u001b[1;33m\u001b[0m\u001b[1;33m\u001b[0m\u001b[0m\n\u001b[1;32m--> 742\u001b[1;33m             \u001b[1;32mraise\u001b[0m \u001b[0mValueError\u001b[0m\u001b[1;33m(\u001b[0m\u001b[1;34m\"anchor not supported for multiline text\"\u001b[0m\u001b[1;33m)\u001b[0m\u001b[1;33m\u001b[0m\u001b[1;33m\u001b[0m\u001b[0m\n\u001b[0m\u001b[0;32m    743\u001b[0m \u001b[1;33m\u001b[0m\u001b[0m\n\u001b[0;32m    744\u001b[0m         \u001b[0mwidths\u001b[0m \u001b[1;33m=\u001b[0m \u001b[1;33m[\u001b[0m\u001b[1;33m]\u001b[0m\u001b[1;33m\u001b[0m\u001b[1;33m\u001b[0m\u001b[0m\n",
      "\u001b[1;31mValueError\u001b[0m: anchor not supported for multiline text"
     ]
    }
   ],
   "source": [
    "# 讀取檔案內容\n",
    "with open('text.json', 'r', encoding='utf-8') as f:\n",
    "    output = f.read()\n",
    "\n",
    "# 中文分詞\n",
    "seg_list = jieba.cut(output, cut_all=False)\n",
    "seg_list = list(seg_list)\n",
    "\n",
    "# 計算詞頻\n",
    "word_freq = {}\n",
    "for word in seg_list:\n",
    "    if word in word_freq:\n",
    "        word_freq[word] += 1\n",
    "    else:\n",
    "        word_freq[word] = 1\n",
    "\n",
    "\n",
    "# 產生文字雲\n",
    "font_path = 'C:/Windows/Fonts/msjh.ttc'  \n",
    "# 設定字型路徑\n",
    "wordcloud = WordCloud(width=800, height=800, font_path=font_path, background_color='white').generate_from_frequencies(word_freq)\n",
    "\n",
    "# 顯示文字雲\n",
    "import matplotlib.pyplot as plt\n",
    "plt.i"
   ]
  },
  {
   "cell_type": "code",
   "execution_count": null,
   "id": "6a1a7971",
   "metadata": {},
   "outputs": [],
   "source": []
  },
  {
   "cell_type": "code",
   "execution_count": null,
   "id": "a8e22b65",
   "metadata": {},
   "outputs": [],
   "source": []
  },
  {
   "cell_type": "code",
   "execution_count": 10,
   "id": "d8be4275",
   "metadata": {},
   "outputs": [
    {
     "data": {
      "text/plain": [
       "'[\\'\"Re 討論 分享小孩看小美人魚的經驗 公告 電影板板規 2022125 公告 魚人小美賭盤預計開3 請大家確認 Re 討論 分享小孩看小美人魚的經驗 公告 電影板板規 2022125 公告 魚人小美賭盤預計開3 請大家確認 Re 討論 分享小孩看小美人魚的經驗 公告 電影板板規 2022125 公告 魚人小美賭盤預計開3 請大家確認 Re 討論 分享小孩看小美人魚的經驗 公告 電影板板規 2022125 公告 魚人小美賭盤預計開3 請大家確認 Re 討論 分享小孩看小美人魚的經驗 公告 電影板板規 2022125 公告 魚人小美賭盤預計開3 請大家確認 Re 討論 分享小孩看小美人魚的經驗 公告 電影板板規 2022125 公告 魚人小美賭盤預計開3 請大家確認\"\\']'"
      ]
     },
     "execution_count": 10,
     "metadata": {},
     "output_type": "execute_result"
    }
   ],
   "source": []
  }
 ],
 "metadata": {
  "kernelspec": {
   "display_name": "Python 3 (ipykernel)",
   "language": "python",
   "name": "python3"
  },
  "language_info": {
   "codemirror_mode": {
    "name": "ipython",
    "version": 3
   },
   "file_extension": ".py",
   "mimetype": "text/x-python",
   "name": "python",
   "nbconvert_exporter": "python",
   "pygments_lexer": "ipython3",
   "version": "3.9.13"
  }
 },
 "nbformat": 4,
 "nbformat_minor": 5
}
