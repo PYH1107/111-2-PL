{
 "cells": [
  {
   "cell_type": "code",
   "execution_count": 1,
   "id": "f0f5182b",
   "metadata": {},
   "outputs": [],
   "source": [
    "import requests\n",
    "import json\n",
    "import time\n",
    "from time import sleep\n",
    "import pandas as pd"
   ]
  },
  {
   "cell_type": "code",
   "execution_count": 6,
   "id": "f940d296",
   "metadata": {},
   "outputs": [
    {
     "data": {
      "text/plain": [
       "'https://www.ptt.cc/bbs/movie/index.html'"
      ]
     },
     "execution_count": 6,
     "metadata": {},
     "output_type": "execute_result"
    }
   ],
   "source": [
    "htmlRUL = 'https://www.ptt.cc/bbs/movie/index.html'\n",
    "htmlRUL"
   ]
  },
  {
   "cell_type": "code",
   "execution_count": 7,
   "id": "ccb43d0d",
   "metadata": {},
   "outputs": [
    {
     "name": "stderr",
     "output_type": "stream",
     "text": [
      "C:\\ProgramData\\Anaconda3\\lib\\site-packages\\urllib3\\connectionpool.py:1045: InsecureRequestWarning: Unverified HTTPS request is being made to host 'www.ptt.cc'. Adding certificate verification is strongly advised. See: https://urllib3.readthedocs.io/en/1.26.x/advanced-usage.html#ssl-warnings\n",
      "  warnings.warn(\n"
     ]
    },
    {
     "data": {
      "text/plain": [
       "<Response [200]>"
      ]
     },
     "execution_count": 7,
     "metadata": {},
     "output_type": "execute_result"
    }
   ],
   "source": [
    "res = requests.get(htmlRUL, verify=False)\n",
    "res"
   ]
  },
  {
   "cell_type": "code",
   "execution_count": 8,
   "id": "bb53f45d",
   "metadata": {},
   "outputs": [],
   "source": [
    "from bs4 import BeautifulSoup"
   ]
  },
  {
   "cell_type": "code",
   "execution_count": 10,
   "id": "e7ebded4",
   "metadata": {},
   "outputs": [
    {
     "name": "stdout",
     "output_type": "stream",
     "text": [
      "https://www.ptt.cc/bbs/movie/index.html9510.html\n",
      "https://www.ptt.cc/bbs/movie/index.html9511.html\n",
      "https://www.ptt.cc/bbs/movie/index.html9512.html\n",
      "https://www.ptt.cc/bbs/movie/index.html9513.html\n",
      "https://www.ptt.cc/bbs/movie/index.html9514.html\n",
      "https://www.ptt.cc/bbs/movie/index.html9515.html\n"
     ]
    }
   ],
   "source": [
    "response = requests.get(htmlRUL)\n",
    "response.encoding = 'utf-8'\n",
    "soup = BeautifulSoup(response.text, \"html.parser\")\n",
    "p_tags = soup.find_all(\"p\")\n",
    "\n",
    "page = range(9510, 9516)\n",
    "\n",
    "for i in page:\n",
    "    link = htmlRUL + str(i) + '.html'\n",
    "    print(link)"
   ]
  },
  {
   "cell_type": "code",
   "execution_count": null,
   "id": "82712e01",
   "metadata": {},
   "outputs": [],
   "source": [
    "htmlRUL2 = 'https://www.ptt.cc/bbs/movie/index'\n",
    "\n",
    "page = range(9510, 9516)\n",
    "for i in page:\n",
    "    link = htmlRUL2 + str(i) + '.html'\n",
    "\n",
    "    response2 = requests.get(link)\n",
    "    response2.encoding = 'utf-8'\n",
    "    soup = BeautifulSoup(response.text, \"html.parser\")\n",
    "\n",
    "    p_tags = soup.find_all(class_='title')\n",
    "    for p in p_tags:\n",
    "        print(p.text)"
   ]
  }
 ],
 "metadata": {
  "kernelspec": {
   "display_name": "Python 3 (ipykernel)",
   "language": "python",
   "name": "python3"
  },
  "language_info": {
   "codemirror_mode": {
    "name": "ipython",
    "version": 3
   },
   "file_extension": ".py",
   "mimetype": "text/x-python",
   "name": "python",
   "nbconvert_exporter": "python",
   "pygments_lexer": "ipython3",
   "version": "3.9.13"
  }
 },
 "nbformat": 4,
 "nbformat_minor": 5
}
