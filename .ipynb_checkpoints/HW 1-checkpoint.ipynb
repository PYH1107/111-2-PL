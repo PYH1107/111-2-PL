{
 "cells": [
  {
   "cell_type": "code",
   "execution_count": 1,
   "id": "3d0ec415",
   "metadata": {},
   "outputs": [
    {
     "data": {
      "text/html": [
       "<div>\n",
       "<style scoped>\n",
       "    .dataframe tbody tr th:only-of-type {\n",
       "        vertical-align: middle;\n",
       "    }\n",
       "\n",
       "    .dataframe tbody tr th {\n",
       "        vertical-align: top;\n",
       "    }\n",
       "\n",
       "    .dataframe thead th {\n",
       "        text-align: right;\n",
       "    }\n",
       "</style>\n",
       "<table border=\"1\" class=\"dataframe\">\n",
       "  <thead>\n",
       "    <tr style=\"text-align: right;\">\n",
       "      <th></th>\n",
       "      <th>Rank</th>\n",
       "      <th>Title</th>\n",
       "      <th>Popularity</th>\n",
       "      <th>Genre</th>\n",
       "      <th>Studio</th>\n",
       "      <th>Type</th>\n",
       "      <th>Episodes</th>\n",
       "      <th>Duration</th>\n",
       "      <th>Start_date</th>\n",
       "      <th>End_date</th>\n",
       "      <th>Members</th>\n",
       "      <th>Score</th>\n",
       "    </tr>\n",
       "  </thead>\n",
       "  <tbody>\n",
       "    <tr>\n",
       "      <th>0</th>\n",
       "      <td>1</td>\n",
       "      <td>Shingeki no Kyojin: The Final Season - Kankets...</td>\n",
       "      <td>609</td>\n",
       "      <td>Action, Drama, Suspense</td>\n",
       "      <td>MAPPA</td>\n",
       "      <td>Special</td>\n",
       "      <td>2.0</td>\n",
       "      <td>61</td>\n",
       "      <td>23-Mar</td>\n",
       "      <td>2023</td>\n",
       "      <td>347875.0</td>\n",
       "      <td>9.17</td>\n",
       "    </tr>\n",
       "    <tr>\n",
       "      <th>1</th>\n",
       "      <td>2</td>\n",
       "      <td>Fullmetal Alchemist: Brotherhood</td>\n",
       "      <td>3</td>\n",
       "      <td>Action, Adventure, Drama, Fantasy</td>\n",
       "      <td>Bones</td>\n",
       "      <td>TV</td>\n",
       "      <td>64.0</td>\n",
       "      <td>24</td>\n",
       "      <td>9-Apr</td>\n",
       "      <td>10-Jul</td>\n",
       "      <td>3109951.0</td>\n",
       "      <td>9.11</td>\n",
       "    </tr>\n",
       "    <tr>\n",
       "      <th>2</th>\n",
       "      <td>3</td>\n",
       "      <td>Bleach: Sennen Kessen-hen</td>\n",
       "      <td>508</td>\n",
       "      <td>Action, Adventure, Fantasy</td>\n",
       "      <td>Pierrot</td>\n",
       "      <td>TV</td>\n",
       "      <td>13.0</td>\n",
       "      <td>24</td>\n",
       "      <td>22-Oct</td>\n",
       "      <td>22-Dec</td>\n",
       "      <td>404036.0</td>\n",
       "      <td>9.09</td>\n",
       "    </tr>\n",
       "    <tr>\n",
       "      <th>3</th>\n",
       "      <td>4</td>\n",
       "      <td>Steins;Gate</td>\n",
       "      <td>13</td>\n",
       "      <td>Drama, Sci-Fi, Suspense</td>\n",
       "      <td>White Fox</td>\n",
       "      <td>TV</td>\n",
       "      <td>24.0</td>\n",
       "      <td>24</td>\n",
       "      <td>11-Apr</td>\n",
       "      <td>11-Sep</td>\n",
       "      <td>2393767.0</td>\n",
       "      <td>9.08</td>\n",
       "    </tr>\n",
       "    <tr>\n",
       "      <th>4</th>\n",
       "      <td>5</td>\n",
       "      <td>Gintama°</td>\n",
       "      <td>335</td>\n",
       "      <td>Action, Comedy, Sci-Fi</td>\n",
       "      <td>Bandai Namco Pictures</td>\n",
       "      <td>TV</td>\n",
       "      <td>51.0</td>\n",
       "      <td>24</td>\n",
       "      <td>15-Apr</td>\n",
       "      <td>16-Mar</td>\n",
       "      <td>581994.0</td>\n",
       "      <td>9.07</td>\n",
       "    </tr>\n",
       "    <tr>\n",
       "      <th>...</th>\n",
       "      <td>...</td>\n",
       "      <td>...</td>\n",
       "      <td>...</td>\n",
       "      <td>...</td>\n",
       "      <td>...</td>\n",
       "      <td>...</td>\n",
       "      <td>...</td>\n",
       "      <td>...</td>\n",
       "      <td>...</td>\n",
       "      <td>...</td>\n",
       "      <td>...</td>\n",
       "      <td>...</td>\n",
       "    </tr>\n",
       "    <tr>\n",
       "      <th>245</th>\n",
       "      <td>246</td>\n",
       "      <td>Blue Lock</td>\n",
       "      <td>439</td>\n",
       "      <td>Sports</td>\n",
       "      <td>8bit</td>\n",
       "      <td>TV</td>\n",
       "      <td>24.0</td>\n",
       "      <td>24</td>\n",
       "      <td>22-Oct</td>\n",
       "      <td>23-Mar</td>\n",
       "      <td>459426.0</td>\n",
       "      <td>8.30</td>\n",
       "    </tr>\n",
       "    <tr>\n",
       "      <th>246</th>\n",
       "      <td>247</td>\n",
       "      <td>Detective Conan Movie 06: The Phantom of Baker...</td>\n",
       "      <td>2289</td>\n",
       "      <td>Adventure, Mystery</td>\n",
       "      <td>TMS Entertainment</td>\n",
       "      <td>Movie</td>\n",
       "      <td>1.0</td>\n",
       "      <td>107</td>\n",
       "      <td>2-Apr</td>\n",
       "      <td>2-Apr</td>\n",
       "      <td>73487.0</td>\n",
       "      <td>8.30</td>\n",
       "    </tr>\n",
       "    <tr>\n",
       "      <th>247</th>\n",
       "      <td>248</td>\n",
       "      <td>Diamond no Ace: Second Season</td>\n",
       "      <td>1541</td>\n",
       "      <td>Sports</td>\n",
       "      <td>Production I.G, Madhouse</td>\n",
       "      <td>TV</td>\n",
       "      <td>51.0</td>\n",
       "      <td>24</td>\n",
       "      <td>15-Apr</td>\n",
       "      <td>16-Mar</td>\n",
       "      <td>130376.0</td>\n",
       "      <td>8.30</td>\n",
       "    </tr>\n",
       "    <tr>\n",
       "      <th>248</th>\n",
       "      <td>249</td>\n",
       "      <td>Hibike! Euphonium 2</td>\n",
       "      <td>1017</td>\n",
       "      <td>Drama</td>\n",
       "      <td>Kyoto Animation</td>\n",
       "      <td>TV</td>\n",
       "      <td>13.0</td>\n",
       "      <td>23</td>\n",
       "      <td>16-Oct</td>\n",
       "      <td>16-Dec</td>\n",
       "      <td>213707.0</td>\n",
       "      <td>8.30</td>\n",
       "    </tr>\n",
       "    <tr>\n",
       "      <th>249</th>\n",
       "      <td>250</td>\n",
       "      <td>Ashita no Joe</td>\n",
       "      <td>2112</td>\n",
       "      <td>Drama, Sports</td>\n",
       "      <td>Mushi Production</td>\n",
       "      <td>TV</td>\n",
       "      <td>79.0</td>\n",
       "      <td>25</td>\n",
       "      <td>Apr-70</td>\n",
       "      <td>Sep-71</td>\n",
       "      <td>83604.0</td>\n",
       "      <td>8.29</td>\n",
       "    </tr>\n",
       "  </tbody>\n",
       "</table>\n",
       "<p>250 rows × 12 columns</p>\n",
       "</div>"
      ],
      "text/plain": [
       "     Rank                                              Title  Popularity  \\\n",
       "0       1  Shingeki no Kyojin: The Final Season - Kankets...         609   \n",
       "1       2                   Fullmetal Alchemist: Brotherhood           3   \n",
       "2       3                          Bleach: Sennen Kessen-hen         508   \n",
       "3       4                                        Steins;Gate          13   \n",
       "4       5                                           Gintama°         335   \n",
       "..    ...                                                ...         ...   \n",
       "245   246                                          Blue Lock         439   \n",
       "246   247  Detective Conan Movie 06: The Phantom of Baker...        2289   \n",
       "247   248                      Diamond no Ace: Second Season        1541   \n",
       "248   249                                Hibike! Euphonium 2        1017   \n",
       "249   250                                      Ashita no Joe        2112   \n",
       "\n",
       "                                 Genre                    Studio     Type  \\\n",
       "0              Action, Drama, Suspense                     MAPPA  Special   \n",
       "1    Action, Adventure, Drama, Fantasy                     Bones       TV   \n",
       "2           Action, Adventure, Fantasy                   Pierrot       TV   \n",
       "3              Drama, Sci-Fi, Suspense                 White Fox       TV   \n",
       "4               Action, Comedy, Sci-Fi     Bandai Namco Pictures       TV   \n",
       "..                                 ...                       ...      ...   \n",
       "245                             Sports                      8bit       TV   \n",
       "246                 Adventure, Mystery         TMS Entertainment    Movie   \n",
       "247                             Sports  Production I.G, Madhouse       TV   \n",
       "248                              Drama           Kyoto Animation       TV   \n",
       "249                      Drama, Sports          Mushi Production       TV   \n",
       "\n",
       "     Episodes  Duration Start_date End_date    Members  Score  \n",
       "0         2.0        61     23-Mar     2023   347875.0   9.17  \n",
       "1        64.0        24      9-Apr   10-Jul  3109951.0   9.11  \n",
       "2        13.0        24     22-Oct   22-Dec   404036.0   9.09  \n",
       "3        24.0        24     11-Apr   11-Sep  2393767.0   9.08  \n",
       "4        51.0        24     15-Apr   16-Mar   581994.0   9.07  \n",
       "..        ...       ...        ...      ...        ...    ...  \n",
       "245      24.0        24     22-Oct   23-Mar   459426.0   8.30  \n",
       "246       1.0       107      2-Apr    2-Apr    73487.0   8.30  \n",
       "247      51.0        24     15-Apr   16-Mar   130376.0   8.30  \n",
       "248      13.0        23     16-Oct   16-Dec   213707.0   8.30  \n",
       "249      79.0        25     Apr-70   Sep-71    83604.0   8.29  \n",
       "\n",
       "[250 rows x 12 columns]"
      ]
     },
     "execution_count": 1,
     "metadata": {},
     "output_type": "execute_result"
    }
   ],
   "source": [
    "# 111-2 HW1\n",
    "import pandas as pd\n",
    "\n",
    "#read csv file\n",
    "top250_anime = pd.read_csv(\"top250_anime.csv\")\n",
    "top250_anime"
   ]
  },
  {
   "cell_type": "code",
   "execution_count": 2,
   "id": "de05450f",
   "metadata": {},
   "outputs": [],
   "source": [
    "df = pd.read_csv(\"top250_anime.csv\")"
   ]
  },
  {
   "cell_type": "code",
   "execution_count": 13,
   "id": "b593b781",
   "metadata": {},
   "outputs": [
    {
     "name": "stdout",
     "output_type": "stream",
     "text": [
      "<class 'pandas.core.frame.DataFrame'>\n",
      "RangeIndex: 250 entries, 0 to 249\n",
      "Data columns (total 12 columns):\n",
      " #   Column      Non-Null Count  Dtype  \n",
      "---  ------      --------------  -----  \n",
      " 0   Rank        250 non-null    int64  \n",
      " 1   Title       250 non-null    object \n",
      " 2   Popularity  250 non-null    int64  \n",
      " 3   Genre       249 non-null    object \n",
      " 4   Studio      248 non-null    object \n",
      " 5   Type        250 non-null    object \n",
      " 6   Episodes    249 non-null    float64\n",
      " 7   Duration    250 non-null    int64  \n",
      " 8   Start_date  250 non-null    object \n",
      " 9   End_date    248 non-null    object \n",
      " 10  Members     248 non-null    float64\n",
      " 11  Score       250 non-null    float64\n",
      "dtypes: float64(3), int64(3), object(6)\n",
      "memory usage: 23.6+ KB\n"
     ]
    }
   ],
   "source": [
    "# 1. 列出基本資訊\n",
    "df.info()"
   ]
  },
  {
   "cell_type": "code",
   "execution_count": 14,
   "id": "58171414",
   "metadata": {},
   "outputs": [
    {
     "name": "stdout",
     "output_type": "stream",
     "text": [
      "         Episodes    Duration       Score\n",
      "count  249.000000  250.000000  250.000000\n",
      "mean    17.791165   41.720000    8.546680\n",
      "std     23.988668   35.677178    0.206665\n",
      "min      1.000000    3.000000    8.290000\n",
      "25%      1.000000   23.000000    8.380000\n",
      "50%     12.000000   24.000000    8.505000\n",
      "75%     24.000000   29.000000    8.660000\n",
      "max    201.000000  161.000000    9.170000\n"
     ]
    }
   ],
   "source": [
    "# 2. Episodes, Duration, Score 的各式算數\n",
    "selected_columns = ['Episodes', 'Duration', 'Score']\n",
    "print(df[selected_columns].describe())"
   ]
  },
  {
   "cell_type": "code",
   "execution_count": 15,
   "id": "875ffb53",
   "metadata": {},
   "outputs": [
    {
     "data": {
      "text/plain": [
       "array(['MAPPA', 'Bones', 'Pierrot', 'White Fox', 'Bandai Namco Pictures',\n",
       "       'A-1 Pictures', 'Wit Studio', 'Sunrise', 'Madhouse',\n",
       "       'K-Factory, Kitty Film Mitaka Studio', 'TMS Entertainment',\n",
       "       'Shaft', 'Kyoto Animation', 'CloverWorks', 'CoMix Wave Films',\n",
       "       'ufotable', 'Pierrot, Studio Signpost', 'Studio Ghibli',\n",
       "       'Production I.G', 'Studio LAN', 'Artland', 'Studio Deen',\n",
       "       'Studio Bind', 'Tokyo Movie Shinsha', 'OLM, P.I.C.S.',\n",
       "       'David Production', 'Kinema Citrus', 'Toei Animation',\n",
       "       'Wit Studio, CloverWorks', \"Brain's Base\", 'Gainax',\n",
       "       'B.CMAY PICTURES', 'Shuka', 'Tatsunoko Production', 'Trigger',\n",
       "       'Khara', 'Madhouse, MAPPA', 'Studio Chizu', 'Shin-Ei Animation',\n",
       "       'OLM', 'Studio VOLN', 'Gainax, Production I.G', 'J.C.Staff',\n",
       "       'C-Station', 'Bandai Entertainment, Manga Entertainment',\n",
       "       'Manglobe', 'Lerche', 'Hal Film Maker', 'Geno Studio', 'Aniplex',\n",
       "       'Toei Animation, DandeLion Animation Studio',\n",
       "       'Haoliners Animation League', 'Zero-G', 'Platinum Vision',\n",
       "       'J.C.Staff, Egg Firm', 'Sharefun Studio', 'SynergySP',\n",
       "       'Nippon Animation', 'Orange', 'P.A. Works', '8bit', 'SILVER LINK.',\n",
       "       'Sentai Filmworks', 'Nexus', 'Topcraft', nan,\n",
       "       'Madhouse, Satelight, Graphinica', 'Gainax, Tatsunoko Production',\n",
       "       'Xebec, AIC', \"Brain's Base, Marvy Jack\", 'Gallop, Studio Comet',\n",
       "       'Production I.G, Trans Arts', 'TROYCA', 'Gonzo',\n",
       "       'Tezuka Productions, MAPPA', 'Production I.G, Madhouse',\n",
       "       'Mushi Production'], dtype=object)"
      ]
     },
     "execution_count": 15,
     "metadata": {},
     "output_type": "execute_result"
    }
   ],
   "source": [
    "# 3. 列出工作室有哪些\n",
    "df.Studio.unique()"
   ]
  },
  {
   "cell_type": "code",
   "execution_count": 16,
   "id": "f29f1336",
   "metadata": {},
   "outputs": [
    {
     "data": {
      "text/plain": [
       "'Madhouse'"
      ]
     },
     "execution_count": 16,
     "metadata": {},
     "output_type": "execute_result"
    }
   ],
   "source": [
    "# 4. 哪一個工作室最常出現 \n",
    "most_frequent_value = df['Studio'].value_counts().idxmax()\n",
    "most_frequent_value"
   ]
  },
  {
   "cell_type": "code",
   "execution_count": 17,
   "id": "b49d1acd",
   "metadata": {},
   "outputs": [
    {
     "name": "stdout",
     "output_type": "stream",
     "text": [
      "Madhouse                      15\n",
      "Shaft                         13\n",
      "Kyoto Animation               11\n",
      "Sunrise                       11\n",
      "Production I.G                10\n",
      "                              ..\n",
      "Gallop, Studio Comet           1\n",
      "Production I.G, Trans Arts     1\n",
      "TROYCA                         1\n",
      "Gonzo                          1\n",
      "Mushi Production               1\n",
      "Name: Studio, Length: 76, dtype: int64\n"
     ]
    }
   ],
   "source": [
    "# 5. 列出各工作室出現的次數並依此排序\n",
    "studio_counts = df['Studio'].value_counts()\n",
    "\n",
    "# 排序\n",
    "studio_counts = studio_counts.sort_values(ascending=False)\n",
    "\n",
    "# 輸出結果\n",
    "print(studio_counts)"
   ]
  },
  {
   "cell_type": "code",
   "execution_count": 18,
   "id": "2e912bc9",
   "metadata": {},
   "outputs": [
    {
     "name": "stdout",
     "output_type": "stream",
     "text": [
      "The studio with the highest total score is: Madhouse\n"
     ]
    }
   ],
   "source": [
    "# 6. 哪一個工作室，其作品分數加總起來，得分最高?\n",
    "studio_scores = df.groupby('Studio')['Score'].sum()\n",
    "\n",
    "# 找到总分数最高的 studio\n",
    "highest_score_studio = studio_scores.idxmax()\n",
    "\n",
    "# 输出结果\n",
    "print(\"The studio with the highest total score is:\", highest_score_studio)"
   ]
  },
  {
   "cell_type": "code",
   "execution_count": 19,
   "id": "0ded5c9e",
   "metadata": {},
   "outputs": [
    {
     "name": "stdout",
     "output_type": "stream",
     "text": [
      "                                      Title  Duration\n",
      "215                                 Gotcha!         3\n",
      "201                          Yoru ni Kakeru         4\n",
      "232                         Kawaki wo Ameku         4\n",
      "163                    Saiki Kusuo no Ψ-nan         5\n",
      "242                         Shelter (Music)         6\n",
      "..                                      ...       ...\n",
      "18                           Koe no Katachi       130\n",
      "58                            Mononoke Hime       133\n",
      "22                  Violet Evergarden Movie       140\n",
      "82   Evangelion: 3.0+1.0 Thrice Upon a Time       155\n",
      "84            Suzumiya Haruhi no Shoushitsu       161\n",
      "\n",
      "[250 rows x 2 columns]\n"
     ]
    }
   ],
   "source": [
    "# 7. 改成以 Duration 排序\n",
    "df = df.sort_values(by=['Duration'])\n",
    "print(df[['Title', 'Duration']].head(250))"
   ]
  },
  {
   "cell_type": "code",
   "execution_count": 20,
   "id": "2d58c2bb",
   "metadata": {},
   "outputs": [
    {
     "name": "stdout",
     "output_type": "stream",
     "text": [
      "Drama            40\n",
      "Action           34\n",
      "Supernatural     26\n",
      "Comedy           24\n",
      "Fantasy          18\n",
      "Adventure        16\n",
      "Sports           14\n",
      "Mystery          14\n",
      "Slice of Life    13\n",
      "Romance          12\n",
      "Suspense         10\n",
      "Sci-Fi            8\n",
      "Award Winning     6\n",
      "Horror            2\n",
      "Ecchi             2\n",
      "Music             1\n",
      "Boys Love         1\n",
      "Name: Genre, dtype: int64\n"
     ]
    }
   ],
   "source": [
    "# 8. 前一百名中，以甚麼Genre居多\n",
    "df = df.head(100) # (1) 選擇前一百名\n",
    "\n",
    "genre_counts = df['Genre'].str.split(',').explode().str.strip().value_counts() # (2) 計算 Genre 的出現次數\n",
    "\n",
    "print(genre_counts) # (3) 輸出結果"
   ]
  },
  {
   "cell_type": "code",
   "execution_count": 25,
   "id": "77bb1623",
   "metadata": {},
   "outputs": [
    {
     "data": {
      "image/png": "[encoded data removed]",
      "text/plain": [
       "<Figure size 640x480 with 1 Axes>"
      ]
     },
     "metadata": {},
     "output_type": "display_data"
    }
   ],
   "source": [
    "# 9. 用散佈圖找出 Episides 多寡與 Duration 長短的關係\n",
    "\n",
    "import matplotlib.pyplot as plt\n",
    "import seaborn as sns\n",
    "plt.scatter(df['Episodes'], df['Duration'])\n",
    "plt.xlabel('Episodes')\n",
    "plt.ylabel('Duration')\n",
    "plt.title('Relationship between Episodes and Duration')\n",
    "plt.show()"
   ]
  },
  {
   "cell_type": "code",
   "execution_count": 23,
   "id": "26b14bf9",
   "metadata": {},
   "outputs": [
    {
     "data": {
      "image/png": "[encoded data removed]",
      "text/plain": [
       "<Figure size 640x480 with 1 Axes>"
      ]
     },
     "metadata": {},
     "output_type": "display_data"
    }
   ],
   "source": [
    "# 10. 繪製出 Popularity 與 Score 的關係\n",
    "plt.scatter(df['Popularity'], df['Score'])\n",
    "plt.xlabel('Popularity')\n",
    "plt.ylabel('Score')\n",
    "plt.title('Relationship between Popularity and Score')\n",
    "plt.show()"
   ]
  },
  {
   "cell_type": "code",
   "execution_count": null,
   "id": "98466c02",
   "metadata": {},
   "outputs": [],
   "source": []
  }
 ],
 "metadata": {
  "kernelspec": {
   "display_name": "Python 3 (ipykernel)",
   "language": "python",
   "name": "python3"
  },
  "language_info": {
   "codemirror_mode": {
    "name": "ipython",
    "version": 3
   },
   "file_extension": ".py",
   "mimetype": "text/x-python",
   "name": "python",
   "nbconvert_exporter": "python",
   "pygments_lexer": "ipython3",
   "version": "3.9.13"
  }
 },
 "nbformat": 4,
 "nbformat_minor": 5
}
