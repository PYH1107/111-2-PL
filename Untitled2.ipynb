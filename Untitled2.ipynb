{
 "cells": [
  {
   "cell_type": "code",
   "execution_count": 1,
   "id": "ee355577",
   "metadata": {},
   "outputs": [],
   "source": [
    "import urllib.request as req #抓取網頁原始碼(HTML)\n",
    "import json\n",
    "import pandas as pd\n",
    "\n",
    "#抓取的網站\n",
    "url = 'https://www.bbc.com/zhongwen/trad' \n",
    "\n",
    "# 建立 Request 物件，附加 Request Headers(因為連線被拒絕，必須看起來像是人類)\n",
    "request = req.Request(url, headers = {\n",
    "    \"User-Agent\":'Mozilla/5.0 (Windows NT 10.0; Win64; x64) AppleWebKit/537.36 (KHTML, like Gecko) Chrome/106.0.0.0 Safari/537.36'\n",
    "})\n",
    "with req.urlopen(request) as response:\n",
    "    data = response.read().decode(\"utf-8\")"
   ]
  },
  {
   "cell_type": "code",
   "execution_count": 2,
   "id": "2f7ec350",
   "metadata": {},
   "outputs": [],
   "source": [
    "#解析原始碼\n",
    "import bs4\n",
    "root = bs4.BeautifulSoup(data, \"html.parser\")\n",
    "\n",
    "#找網站中class 為 entry-title 的 h1 標籤\n",
    "titles = root.find_all(\"h1\", class_=\"entry-title\") "
   ]
  },
  {
   "cell_type": "code",
   "execution_count": 3,
   "id": "f2dac7dd",
   "metadata": {},
   "outputs": [],
   "source": [
    "allti=[]\n",
    "for title in titles:\n",
    "    all=title.a.string\n",
    "    alla = json.dumps(all,ensure_ascii=False).encode('utf-8')\n",
    "    allb = alla.decode()\n",
    "    allti.append(allb)\n",
    "    print(allb)"
   ]
  },
  {
   "cell_type": "code",
   "execution_count": 4,
   "id": "e9b44920",
   "metadata": {},
   "outputs": [
    {
     "data": {
      "text/plain": [
       "'{\"文章標題\": []}'"
      ]
     },
     "execution_count": 4,
     "metadata": {},
     "output_type": "execute_result"
    }
   ],
   "source": [
    "#將資料放入 dict\n",
    "eyesonplace={}\n",
    "eyesonplace['文章標題']=allti\n",
    "\n",
    "#將dict 轉成 json 檔\n",
    "eyesonplace_j=json.dumps(eyesonplace,ensure_ascii=False) \n",
    "eyesonplace_j"
   ]
  },
  {
   "cell_type": "code",
   "execution_count": null,
   "id": "b42422ae",
   "metadata": {},
   "outputs": [],
   "source": [
    "#將dict 轉成 DataFrame\n",
    "eyesonplace_c = pd.DataFrame(eyesonplace) \n",
    "eyesonplace_c"
   ]
  }
 ],
 "metadata": {
  "kernelspec": {
   "display_name": "Python 3 (ipykernel)",
   "language": "python",
   "name": "python3"
  },
  "language_info": {
   "codemirror_mode": {
    "name": "ipython",
    "version": 3
   },
   "file_extension": ".py",
   "mimetype": "text/x-python",
   "name": "python",
   "nbconvert_exporter": "python",
   "pygments_lexer": "ipython3",
   "version": "3.9.13"
  }
 },
 "nbformat": 4,
 "nbformat_minor": 5
}
