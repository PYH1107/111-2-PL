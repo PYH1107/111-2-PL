{
 "cells": [
  {
   "cell_type": "code",
   "execution_count": 1,
   "id": "22133525",
   "metadata": {},
   "outputs": [],
   "source": [
    "import json\n",
    "\n",
    "HR = open('HR.json',encoding=\"UTF-8\")"
   ]
  },
  {
   "cell_type": "code",
   "execution_count": 2,
   "id": "3ea51bdc",
   "metadata": {},
   "outputs": [],
   "source": [
    "active = json.load(HR)"
   ]
  },
  {
   "cell_type": "code",
   "execution_count": 3,
   "id": "49e8b3e2",
   "metadata": {},
   "outputs": [
    {
     "data": {
      "text/plain": [
       "dict"
      ]
     },
     "execution_count": 3,
     "metadata": {},
     "output_type": "execute_result"
    }
   ],
   "source": [
    "## 辨識讀出來的類別，excel原始檔沒有分頁的話會顯示為list\n",
    "type(active)"
   ]
  },
  {
   "cell_type": "code",
   "execution_count": 4,
   "id": "20d77111",
   "metadata": {},
   "outputs": [
    {
     "data": {
      "text/plain": [
       "dict_items([('出席列表', [{'學生姓名': 'Irene', '組別': 4, '出席率': 25}, {'學生姓名': 'Ruth', '組別': 2, '出席率': 100}, {'學生姓名': 'Ben', '組別': 1, '出席率': 75}, {'學生姓名': 'Amy', '組別': 5, '出席率': 80}]), ('總加分數', [{'學生姓名': 'Irene', '總加分': 5}, {'學生姓名': 'Ruth', '總加分': 7}, {'學生姓名': 'Ben', '總加分': 0}, {'學生姓名': 'Amy', '總加分': 3}])])"
      ]
     },
     "execution_count": 4,
     "metadata": {},
     "output_type": "execute_result"
    }
   ],
   "source": [
    "## 讀出完整字典做確認\n",
    "active.items()"
   ]
  },
  {
   "cell_type": "code",
   "execution_count": 5,
   "id": "182a736a",
   "metadata": {},
   "outputs": [],
   "source": [
    "# 抽出學生出席列表、總加分數\n",
    "temp = active.get('出席列表')\n",
    "temp1 = active.get('總加分數')"
   ]
  },
  {
   "cell_type": "code",
   "execution_count": 6,
   "id": "9eac54c8",
   "metadata": {},
   "outputs": [
    {
     "name": "stdout",
     "output_type": "stream",
     "text": [
      "想要查詢的學生姓名Ruth\n"
     ]
    }
   ],
   "source": [
    "# 填入想查詢的學生姓名\n",
    "ask = input(\"想要查詢的學生姓名\")"
   ]
  },
  {
   "cell_type": "code",
   "execution_count": 8,
   "id": "d18df4b6",
   "metadata": {},
   "outputs": [
    {
     "name": "stdout",
     "output_type": "stream",
     "text": [
      "Ruth 是第 2 組\n",
      "出席率: 100 %\n"
     ]
    }
   ],
   "source": [
    "# 查詢組別 & 出席率\n",
    "\n",
    "for i in temp:\n",
    "    if ask == i.get('學生姓名'):\n",
    "        print(ask, '是第', i.get('組別'),'組')\n",
    "        print(\"出席率:\", i.get('出席率'), \"%\")"
   ]
  },
  {
   "cell_type": "code",
   "execution_count": 9,
   "id": "8e2b37b7",
   "metadata": {},
   "outputs": [
    {
     "name": "stdout",
     "output_type": "stream",
     "text": [
      "總共加了 7 分\n"
     ]
    }
   ],
   "source": [
    "# 查詢加了多少分\n",
    "for o in temp1:\n",
    "    if ask == o.get('學生姓名'):\n",
    "        print('總共加了', o.get('總加分'), '分')"
   ]
  },
  {
   "cell_type": "code",
   "execution_count": 10,
   "id": "33b9e386",
   "metadata": {},
   "outputs": [
    {
     "data": {
      "text/plain": [
       "[5, 7, 0, 3]"
      ]
     },
     "execution_count": 10,
     "metadata": {},
     "output_type": "execute_result"
    }
   ],
   "source": [
    "# 抽出加分數\n",
    "allscore = []\n",
    "for o in temp1:\n",
    "    allscore.append(o.get('總加分'))\n",
    "allscore"
   ]
  },
  {
   "cell_type": "code",
   "execution_count": 11,
   "id": "57f744e4",
   "metadata": {},
   "outputs": [
    {
     "data": {
      "text/plain": [
       "[(2, 7), (1, 5), (4, 3), (3, 0)]"
      ]
     },
     "execution_count": 11,
     "metadata": {},
     "output_type": "execute_result"
    }
   ],
   "source": [
    "allscore_enumerate = enumerate(allscore, start = 1)\n",
    "allscore_enumerate_sorted = sorted(allscore_enumerate, key = lambda s: s[1], reverse = True)\n",
    "allscore_enumerate_sorted"
   ]
  },
  {
   "cell_type": "code",
   "execution_count": 12,
   "id": "eeec4c67",
   "metadata": {},
   "outputs": [
    {
     "data": {
      "text/plain": [
       "7"
      ]
     },
     "execution_count": 12,
     "metadata": {},
     "output_type": "execute_result"
    }
   ],
   "source": [
    "# 驗證是否可以取得到陣列裡對的資料\n",
    "allscore_enumerate_sorted[0][1]"
   ]
  },
  {
   "cell_type": "code",
   "execution_count": 13,
   "id": "6d86b950",
   "metadata": {},
   "outputs": [
    {
     "data": {
      "text/plain": [
       "{'學生姓名': 'Irene', '總加分': 5}"
      ]
     },
     "execution_count": 13,
     "metadata": {},
     "output_type": "execute_result"
    }
   ],
   "source": [
    "# 確認temp抓了什麼\n",
    "temp1[0]"
   ]
  },
  {
   "cell_type": "code",
   "execution_count": 14,
   "id": "a84156b7",
   "metadata": {},
   "outputs": [
    {
     "name": "stdout",
     "output_type": "stream",
     "text": [
      "Ruth 加了 7 分\n",
      "Irene 加了 5 分\n",
      "Amy 加了 3 分\n",
      "Ben 加了 0 分\n"
     ]
    }
   ],
   "source": [
    "# 印出排序過後的加分與名字\n",
    "for i in allscore_enumerate_sorted:\n",
    "    j = i[0] - 1\n",
    "    print(temp1[j].get('學生姓名'), '加了', temp1[j].get('總加分'), '分')"
   ]
  },
  {
   "cell_type": "code",
   "execution_count": null,
   "id": "74e5ac85",
   "metadata": {},
   "outputs": [],
   "source": []
  }
 ],
 "metadata": {
  "kernelspec": {
   "display_name": "Python 3 (ipykernel)",
   "language": "python",
   "name": "python3"
  },
  "language_info": {
   "codemirror_mode": {
    "name": "ipython",
    "version": 3
   },
   "file_extension": ".py",
   "mimetype": "text/x-python",
   "name": "python",
   "nbconvert_exporter": "python",
   "pygments_lexer": "ipython3",
   "version": "3.9.13"
  }
 },
 "nbformat": 4,
 "nbformat_minor": 5
}
